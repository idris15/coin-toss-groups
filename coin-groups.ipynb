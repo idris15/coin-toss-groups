{
 "cells": [
  {
   "cell_type": "code",
   "execution_count": 1,
   "metadata": {
    "collapsed": false
   },
   "outputs": [],
   "source": [
    "def generateRandom(seed=None, length=1, test=False):\n",
    "    \"\"\"Generate random sequence of length 'length'\"\"\"\n",
    "    import random\n",
    "    random.seed(seed)\n",
    "    \n",
    "    randomSeq = []\n",
    "    for i in range(length):\n",
    "        if test:\n",
    "            a = random.random()\n",
    "            print i, a\n",
    "            randomSeq.append(a)\n",
    "        else:\n",
    "            randomSeq.append(random.random())\n",
    "        i = i+1\n",
    "    if test:\n",
    "        print randomSeq\n",
    "    return randomSeq"
   ]
  },
  {
   "cell_type": "code",
   "execution_count": 2,
   "metadata": {
    "collapsed": true
   },
   "outputs": [],
   "source": [
    "def parseSeq(seq, headP=0.5, test=False):\n",
    "    \"\"\"Parse random sequence into Heads and Tails\n",
    "       True (n<headP) denotes Heads, False (n>=headP) denotes Tails\n",
    "    \"\"\"\n",
    "    if test:\n",
    "        print map(lambda x: x<headP, seq)\n",
    "    return map(lambda x: x<headP, seq)"
   ]
  },
  {
   "cell_type": "code",
   "execution_count": 3,
   "metadata": {
    "collapsed": false
   },
   "outputs": [],
   "source": [
    "def analyzeSeq(seq, test=False):\n",
    "    \"\"\"Analyze sequence to return no. of tosses, no. of heads, \n",
    "    no. of tails, no. of groups etc.\"\"\"\n",
    "    numTosses = len(seq)\n",
    "    numHeads = seq.count(True)\n",
    "    numTails = numTosses - numHeads\n",
    "    if test:\n",
    "        print numTosses, numHeads, float(numHeads)/numTosses\n",
    "    \n",
    "    groupRecord = []\n",
    "    groupStart = seq[0] #Identifies whether first toss is H or T\n",
    "    start, end = 0, 0\n",
    "    for i in range(1,len(seq)):\n",
    "        if seq[i] != seq[i-1]:\n",
    "            end = i\n",
    "            groupRecord.append((start, end, end-start))\n",
    "            start = i\n",
    "    end = len(seq)\n",
    "    groupRecord.append((start,end,end-start))\n",
    "    \n",
    "    numGroups = len(groupRecord)\n",
    "    if test:\n",
    "        print numGroups\n",
    "        print groupRecord\n",
    "    return numTosses, numHeads, groupStart, groupRecord, numGroups"
   ]
  },
  {
   "cell_type": "code",
   "execution_count": 7,
   "metadata": {
    "collapsed": true
   },
   "outputs": [],
   "source": [
    "def runMonteCarlo1234(length=10, bias=0.6):\n",
    "    \"\"\"Run Monte-Carlo simulation for questions 1, 2, 3 and 4\n",
    "    Default sequence length and bias parameters are from the questions\"\"\"\n",
    "    numGroupsExpected = 0.0\n",
    "    runNum = 0\n",
    "    #while not(converged):\n",
    "    for i in range(100000):\n",
    "        runNum = i+1\n",
    "        seq = generateRandom(seed=None, length=length)\n",
    "        parsedSeq = parseSeq(seq, bias)\n",
    "        (numTosses, numHeads, groupStart, groupRecord, numGroups) = analyzeSeq(parsedSeq)\n",
    "        oldVal = numGroupsExpected\n",
    "        numGroupsExpected = numGroupsExpected*(runNum-1)/runNum + (numGroups)/float(runNum)\n",
    "        if runNum < 51:\n",
    "            print runNum, numGroupsExpected, (1-oldVal/numGroupsExpected)\n",
    "        elif runNum < 1001 and runNum % 100 == 0:\n",
    "            print runNum, numGroupsExpected, (1-oldVal/numGroupsExpected)\n",
    "        elif runNum < 10001 and runNum % 1000 == 0:\n",
    "            print runNum, numGroupsExpected, (1-oldVal/numGroupsExpected)\n",
    "        elif runNum % 10000 == 0:\n",
    "            print runNum, numGroupsExpected, (1-oldVal/numGroupsExpected)"
   ]
  },
  {
   "cell_type": "code",
   "execution_count": 5,
   "metadata": {
    "collapsed": false,
    "scrolled": false
   },
   "outputs": [
    {
     "name": "stdout",
     "output_type": "stream",
     "text": [
      "0.63 53\n"
     ]
    }
   ],
   "source": [
    "seq = generateRandom(seed=None, length=100)\n",
    "parsed = parseSeq(seq, 0.6)\n",
    "(numTosses, numHeads, groupStart, groupRecord, numGroups) = analyzeSeq(parsed)\n",
    "print float(numHeads)/numTosses, numGroups"
   ]
  },
  {
   "cell_type": "code",
   "execution_count": 8,
   "metadata": {
    "collapsed": false
   },
   "outputs": [
    {
     "name": "stdout",
     "output_type": "stream",
     "text": [
      "1 4.0 1.0\n",
      "2 5.5 0.272727272727\n",
      "3 6.33333333333 0.131578947368\n",
      "4 6.5 0.025641025641\n",
      "5 6.0 -0.0833333333333\n",
      "6 5.66666666667 -0.0588235294118\n",
      "7 5.71428571429 0.00833333333333\n",
      "8 5.75 0.00621118012422\n",
      "9 5.55555555556 -0.035\n",
      "10 5.6 0.00793650793651\n",
      "11 5.63636363636 0.00645161290323\n",
      "12 5.58333333333 -0.00949796472185\n",
      "13 5.46153846154 -0.0223004694836\n",
      "14 5.42857142857 -0.00607287449393\n",
      "15 5.2 -0.043956043956\n",
      "16 5.4375 0.0436781609195\n",
      "17 5.23529411765 -0.0386235955056\n",
      "18 5.22222222222 -0.00250312891114\n",
      "19 5.21052631579 -0.00224466891134\n",
      "20 5.2 -0.00202429149798\n",
      "21 5.19047619048 -0.00183486238532\n",
      "22 5.22727272727 0.00703933747412\n",
      "23 5.26086956522 0.00638617580766\n",
      "24 5.33333333333 0.0135869565217\n",
      "25 5.32 -0.00250626566416\n",
      "26 5.30769230769 -0.00231884057971\n",
      "27 5.2962962963 -0.00215169445939\n",
      "28 5.28571428571 -0.002002002002\n",
      "29 5.37931034483 0.0173992673993\n",
      "30 5.3 -0.0149642160052\n",
      "31 5.25806451613 -0.0079754601227\n",
      "32 5.1875 -0.0136027982899\n",
      "33 5.21212121212 0.0047238372093\n",
      "34 5.26470588235 0.00998814965295\n",
      "35 5.34285714286 0.0146272412708\n",
      "36 5.33333333333 -0.00178571428571\n",
      "37 5.2972972973 -0.00680272108844\n",
      "38 5.23684210526 -0.0115442075241\n",
      "39 5.23076923077 -0.00116099071207\n",
      "40 5.225 -0.0011041589989\n",
      "41 5.24390243902 0.00360465116279\n",
      "42 5.2619047619 0.00342125593202\n",
      "43 5.27906976744 0.00325152087267\n",
      "44 5.27272727273 -0.00120288692863\n",
      "45 5.22222222222 -0.00967117988395\n",
      "46 5.21739130435 -0.000925925925926\n",
      "47 5.23404255319 0.00318133616119\n",
      "48 5.16666666667 -0.0130404941661\n",
      "49 5.22448979592 0.0110677083333\n",
      "50 5.22 -0.000860114160607\n",
      "100 5.2 0.001554001554\n",
      "200 5.27 -0.00121098852898\n",
      "300 5.23666666667 -0.000151150982801\n",
      "400 5.2475 -0.00107343155411\n",
      "500 5.242 -0.00123941129111\n",
      "600 5.27333333333 -8.6532758981e-05\n",
      "700 5.28714285714 -7.7696203207e-05\n",
      "800 5.265 0.000174719824282\n",
      "900 5.24 0.000585892722193\n",
      "1000 5.262 -0.000240072836044\n",
      "2000 5.323 6.36237713071e-05\n",
      "3000 5.30533333333 -1.91904464091e-05\n",
      "4000 5.31975 3.19761316334e-05\n",
      "5000 5.3144 2.5806757016e-05\n",
      "6000 5.32116666667 2.12655899736e-05\n",
      "7000 5.32785714286 4.48419833443e-05\n",
      "8000 5.32825 3.92239242452e-05\n",
      "9000 5.31577777778 -6.6011635822e-06\n",
      "10000 5.3049 -5.74809125631e-06\n",
      "20000 5.3161 3.46502530446e-05\n",
      "30000 5.31483333333 4.29734081553e-06\n",
      "40000 5.32135 7.88658877582e-06\n",
      "50000 5.32104 -4.96544442963e-06\n",
      "60000 5.31938333333 2.13254045878e-06\n",
      "70000 5.31852857143 -3.54165466754e-06\n",
      "80000 5.319 -3.09977553981e-06\n",
      "90000 5.32025555556 -6.68846554808e-07\n",
      "100000 5.31995 3.15804998297e-06\n"
     ]
    }
   ],
   "source": [
    "runMonteCarlo1234(length=10, bias=0.6)"
   ]
  },
  {
   "cell_type": "code",
   "execution_count": null,
   "metadata": {
    "collapsed": true
   },
   "outputs": [],
   "source": []
  }
 ],
 "metadata": {
  "kernelspec": {
   "display_name": "Python 2",
   "language": "python",
   "name": "python2"
  },
  "language_info": {
   "codemirror_mode": {
    "name": "ipython",
    "version": 2
   },
   "file_extension": ".py",
   "mimetype": "text/x-python",
   "name": "python",
   "nbconvert_exporter": "python",
   "pygments_lexer": "ipython2",
   "version": "2.7.12"
  }
 },
 "nbformat": 4,
 "nbformat_minor": 0
}
